{
 "cells": [
  {
   "cell_type": "code",
   "execution_count": 6,
   "metadata": {},
   "outputs": [],
   "source": [
    "%%capture\n",
    "\n",
    "import pandas as pd\n",
    "import matplotlib\n",
    "import matplotlib.pyplot as plt\n",
    "import numpy as np\n",
    "import math\n",
    "import os\n",
    "\n",
    "matplotlib.rcParams.update({'font.size': 14})\n",
    "plt.tight_layout()"
   ]
  },
  {
   "cell_type": "markdown",
   "metadata": {},
   "source": [
    "_TODO: add documentation info from cohort maps._\n",
    "\n",
    "# Data Exploration\n",
    "\n",
    "Let's take a look at Columbia's average net prices since 2008 (when colleges began reporting student aid data).\n",
    "\n",
    "Note that the years in the scorecard data filenames correspond to when the data was collected. For example, the 2016-17 data file describes data collected in 2016-17, so it actually describes the 2015-16 academic year."
   ]
  },
  {
   "cell_type": "code",
   "execution_count": null,
   "metadata": {},
   "outputs": [],
   "source": [
    "data = {}\n",
    "scorecards = {}\n",
    "\n",
    "# Read every scorecard file from 2009 to 2016 into a list.\n",
    "for year in range(9, 17):\n",
    "    fname = f'MERGED20{year:02}_{(year + 1):02}_PP.csv'\n",
    "    df = pd.read_csv('../data/scorecard/' + fname, low_memory=False)\n",
    "    data[2000 + year - 1] = df\n",
    "    # Isolate Columbia data\n",
    "    scorecards = df.set_index('INSTNM').loc['Columbia University in the City of New York']\n",
    "    print('Finished reading', fname)"
   ]
  },
  {
   "cell_type": "markdown",
   "metadata": {},
   "source": [
    "The College Scorecard only has data up to academic year (AY) 2015-16.\n",
    "\n",
    "IPEDS has [more recent financial aid data (in the \"Net Price\" section)](https://nces.ed.gov/ipeds/datacenter/institutionprofile.aspx?unitId=acababb2abb1) that we have to hard code into the scorecard list.\n",
    "\n",
    "To get the average annual cost of attendance, go to Columbia's [2016 Institutional Characteristics Survey](https://nces.ed.gov/ipeds/datacenter/facsimile.aspx?action=pdf&unitid=acb4abacb0ab&year=2016&surveyNumber=1) in the IPEDS Data Center. On pages 11-12 is the makeup of the cost of attendance for 2016. To calculate the cost of attendance, add \"Tuition + fees total\", \"Books and supplies\", and \"On-campus Room and board and other expenses\". \n",
    "\n",
    "Though the College Scorecard does not explain how it factors in on-campus and off-campus costs of attendance, it seems to only use on-campus costs for its data. This is probably because the average annual cost is defined for first-time, full-time undergraduates, and Columbia requires these students to live on campus."
   ]
  },
  {
   "cell_type": "code",
   "execution_count": null,
   "metadata": {},
   "outputs": [],
   "source": [
    "scorecards[2016] = {\n",
    "    'NPT41_PRIV': 10917.0,\n",
    "    'NPT42_PRIV': 6596.0,\n",
    "    'NPT43_PRIV': 7648.0,\n",
    "    'NPT44_PRIV': 17463.0,\n",
    "    'NPT45_PRIV': 42912.0,\n",
    "    'COSTT4_A': 71785,\n",
    "}"
   ]
  },
  {
   "cell_type": "markdown",
   "metadata": {},
   "source": [
    "To adjust prices for inflation, we will use consumer price index data to make price data equivalent to 2016 dollars. The month of 2016 we adjust to depends on when each category of data was calculated. For example, net price data is reported around December, whereas debt data is reported around October."
   ]
  },
  {
   "cell_type": "code",
   "execution_count": null,
   "metadata": {},
   "outputs": [],
   "source": [
    "cpiData = pd.read_csv('../data/ConsumerPriceIndexData.csv').set_index('Year')\n",
    "\n",
    "# Returns a function that adjusts nominal dollars to [month] 2016 dollars.\n",
    "def inflationAdjuster(month):\n",
    "    finalCpi = cpiData.loc[2016][month]\n",
    "    def adjust(dollars, year):\n",
    "        if dollars is None:\n",
    "            return\n",
    "        initCpi = cpiData.loc[year][month]\n",
    "        return dollars * finalCpi / initCpi\n",
    "    return adjust"
   ]
  },
  {
   "cell_type": "code",
   "execution_count": null,
   "metadata": {},
   "outputs": [],
   "source": [
    "colNames = {\n",
    "    'NPT41_PRIV': 'ANP for 0-30,000 fam income',\n",
    "    'NPT42_PRIV': 'ANP for 30,001-48,000 fam income',\n",
    "    'NPT43_PRIV': 'ANP for 48,001-75,000 fam income',\n",
    "    'NPT44_PRIV': 'ANP for 75,001-110,000 fam income',\n",
    "    'NPT45_PRIV': 'ANP for 110,000+ fam income',\n",
    "    'COSTT4_A': 'Total cost of attendance',\n",
    "}\n",
    "\n",
    "YEARS = [i for i in range(2008, 2017)]\n",
    "\n",
    "def getPrices(col):\n",
    "    # Net prices are calculated around Nov-Dec.\n",
    "    # IPEDS help desk when asked if I could use December CPI's to adjust\n",
    "    # net prices for inflation: \"Probably.\" —Mike (the one person who\n",
    "    # runs the help desk). 🧐\n",
    "    adjust = inflationAdjuster('Dec')\n",
    "    return [adjust(scorecards[year][col], year) for year in YEARS]\n",
    "\n",
    "def comparePriceLines(*cols, title=None):\n",
    "    plt.figure(figsize=(10,10))\n",
    "    for col in cols:\n",
    "        plt.plot(YEARS, getPrices(col), label=colNames.get(col, col))        \n",
    "    plt.legend()\n",
    "    plt.xlabel('Academic year')\n",
    "    plt.ylabel('Average net price in December 2016 dollars')\n",
    "    plt.ylim(bottom=0)\n",
    "    if title:\n",
    "        plt.title(title)"
   ]
  },
  {
   "cell_type": "code",
   "execution_count": null,
   "metadata": {},
   "outputs": [],
   "source": [
    "comparePriceLines(\n",
    "    'NPT41_PRIV',\n",
    "    'NPT42_PRIV',\n",
    "    'NPT43_PRIV',\n",
    "    title='Average net price (ANP) for lowest 3 income quintiles'\n",
    ")"
   ]
  },
  {
   "cell_type": "markdown",
   "metadata": {},
   "source": [
    "In my initial analysis, I made the mistake of making a hasty conclusion about Columbia's increasingly inequitable financial aid distribution. However, when we graph ANP's for all income quintiles with the total cost of attendance..."
   ]
  },
  {
   "cell_type": "code",
   "execution_count": null,
   "metadata": {},
   "outputs": [],
   "source": [
    "comparePriceLines(\n",
    "    'NPT41_PRIV',\n",
    "    'NPT42_PRIV',\n",
    "    'NPT43_PRIV',\n",
    "    'NPT44_PRIV',\n",
    "    'NPT45_PRIV',\n",
    "    'COSTT4_A',\n",
    "    title='Average net price (ANP) for every income quintile compared to total cost'\n",
    ")"
   ]
  },
  {
   "cell_type": "markdown",
   "metadata": {},
   "source": [
    "...we see that the differences between the ANP's of the three lowest income quintiles are relatively small compared to the differences in total cost. Thus, no immediate conclusion about financial aid can be made. This data only tells us further reporting is necessary to explain the disparities."
   ]
  },
  {
   "cell_type": "markdown",
   "metadata": {},
   "source": [
    "Average net price is defined as the total cost of attendance minus the average aid awarded to students of that income quintile. Let's graph the average aid awarded."
   ]
  },
  {
   "cell_type": "code",
   "execution_count": null,
   "metadata": {},
   "outputs": [],
   "source": [
    "colNames = {\n",
    "    'NPT41_PRIV': 'Average aid to 0-30,000 fam income',\n",
    "    'NPT42_PRIV': 'Average aid to 30,001-48,000 fam income',\n",
    "    'NPT43_PRIV': 'Average aid to 48,001-75,000 fam income',\n",
    "    'NPT44_PRIV': 'Average aid to 75,001-110,000 fam income',\n",
    "    'NPT45_PRIV': 'Average aid to 110,000+ fam income',\n",
    "    'COSTT4_A': 'Total cost of attendance',\n",
    "}\n",
    "\n",
    "def getAid(col):\n",
    "    adjust = inflationAdjuster('Dec')\n",
    "    if col == 'COSTT4_A':\n",
    "        return getPrices(col)\n",
    "    return [\n",
    "        adjust(scorecards[year]['COSTT4_A'] - scorecards[year][col], year) for year in YEARS\n",
    "    ]\n",
    "\n",
    "def compareAidLines(*cols, title=None):\n",
    "    plt.figure(figsize=(10,10))\n",
    "    for col in cols:\n",
    "        plt.plot(YEARS, getAid(col), label=colNames.get(col, col))\n",
    "    plt.legend()\n",
    "    plt.xlabel('Academic year')\n",
    "    plt.ylabel('Average net price in December 2016 dollars')\n",
    "    plt.ylim(bottom=0)\n",
    "    if title:\n",
    "        plt.title(title)"
   ]
  },
  {
   "cell_type": "code",
   "execution_count": null,
   "metadata": {},
   "outputs": [],
   "source": [
    "compareAidLines(\n",
    "    'NPT41_PRIV',\n",
    "    'NPT42_PRIV',\n",
    "    'NPT43_PRIV',\n",
    "    'NPT44_PRIV',\n",
    "    'NPT45_PRIV',\n",
    "    'COSTT4_A',\n",
    "    title='Average aid awarded for every income quintile in the last decade'\n",
    ")"
   ]
  },
  {
   "cell_type": "markdown",
   "metadata": {},
   "source": [
    "We see now more clearly now that financial aid for the lower four income quintiles are growing at similar rates"
   ]
  },
  {
   "cell_type": "code",
   "execution_count": null,
   "metadata": {},
   "outputs": [],
   "source": [
    "# Retrieves percent increase column data since 2009 for every year\n",
    "def getPriceIncreases(col):\n",
    "    data = getPrices(col)\n",
    "    initial = data[0]\n",
    "    return [\n",
    "        (d - initial) / initial\n",
    "        for d in data\n",
    "    ]\n",
    "\n",
    "def compareAggregatePriceIncreases(*cols, title=None):\n",
    "    plt.figure(figsize=(10,10))\n",
    "    for col in cols:\n",
    "        plt.plot(YEARS, getPriceIncreases(col), label=colNames.get(col, col))\n",
    "    plt.legend()\n",
    "    plt.xlabel('Academic year')\n",
    "    plt.ylabel('Change since 2009')\n",
    "    plt.axhline(y=0, linestyle='--', color='#aaaaaa')\n",
    "    if title:\n",
    "        plt.title(title)    "
   ]
  },
  {
   "cell_type": "code",
   "execution_count": null,
   "metadata": {},
   "outputs": [],
   "source": [
    "compareAggregatePriceIncreases(\n",
    "    'NPT41_PRIV',\n",
    "    'NPT42_PRIV',\n",
    "    'NPT43_PRIV',\n",
    "    'NPT44_PRIV',\n",
    "    'NPT45_PRIV',\n",
    "    title=\"ANP change since 2009 for each income quintile.\"\n",
    ")"
   ]
  },
  {
   "cell_type": "markdown",
   "metadata": {},
   "source": [
    "# Debt\n",
    "\n",
    "According to the [College Scorecard Data Documentation (page 18)](https://collegescorecard.ed.gov/assets/FullDataDocumentation.pdf), debt data for each cohort (e.g. low income, medium income, pell grant students) is produced for each fiscal year. Fiscal years end on September 30, so the CPI's I use for each year are from September."
   ]
  },
  {
   "cell_type": "code",
   "execution_count": null,
   "metadata": {},
   "outputs": [],
   "source": [
    "colNames = {\n",
    "    'LO_INC_DEBT_MDN': 'median debt for 0-30k students',\n",
    "    'MD_INC_DEBT_MDN': 'median debt for 30k-75k students',\n",
    "    'HI_INC_DEBT_MDN': 'median debt for 75k+ students',\n",
    "}\n",
    "\n",
    "def getDebtData(col):\n",
    "    adjust = inflationAdjuster('Sep')\n",
    "    # No debt data is available for AY 2016-17.\n",
    "    return [\n",
    "        adjust(float(scorecards[year][col]), year) for year in YEARS[:-1]\n",
    "    ] + [None]\n",
    "\n",
    "def compareDebtLines(*cols, title=None):\n",
    "    plt.figure(figsize=(10,10))\n",
    "    for col in cols:\n",
    "        plt.plot(YEARS, getDebtData(col), label=colNames.get(col, col))        \n",
    "    plt.legend()\n",
    "    plt.xlabel('Academic year')\n",
    "    plt.ylabel('Median debt (in nominal dollars)')\n",
    "    plt.ylim(bottom=0)\n",
    "    if title:\n",
    "        plt.title(title)"
   ]
  },
  {
   "cell_type": "code",
   "execution_count": null,
   "metadata": {},
   "outputs": [],
   "source": [
    "compareDebtLines('LO_INC_DEBT_MDN', 'MD_INC_DEBT_MDN', 'HI_INC_DEBT_MDN')"
   ]
  },
  {
   "cell_type": "markdown",
   "metadata": {},
   "source": [
    "# Context\n",
    "\n",
    "How does the inequitable net price growths at Columbia compare with other elite institutions?"
   ]
  },
  {
   "cell_type": "code",
   "execution_count": null,
   "metadata": {},
   "outputs": [],
   "source": [
    "def getData(uni, col):\n",
    "    adjust = inflationAdjuster('Dec')\n",
    "    return [\n",
    "        adjust(float(data[year].loc[data[year]['INSTNM'] == uni][col]), year)\n",
    "        for year in YEARS[:-1]\n",
    "    ]\n",
    "\n",
    "class ComparisonGraph:\n",
    "    def __init__(self, unis, cols):\n",
    "        self.unis = unis\n",
    "        self.cols = cols\n",
    "        self.width = 3\n",
    "        self.height = math.ceil(len(unis) / self.width)\n",
    "\n",
    "    def graph(self):\n",
    "        plt.figure(figsize=(10,20))\n",
    "        for i in range(len(self.unis)):\n",
    "            self.graphUni(i)\n",
    "            \n",
    "    def graphUni(self, index):\n",
    "        plt.subplot(self.width, self.height, index + 1)\n",
    "        uni = self.unis[index]\n",
    "        for col in self.cols:\n",
    "            plt.plot(YEARS[:-1], getData(uni, col), label=col)\n",
    "        plt.legend()\n",
    "        plt.xlabel('Academic year')\n",
    "        plt.ylabel('Average net price in December 2016 dollars')\n",
    "        plt.ylim(bottom=0)\n",
    "        plt.title(uni)\n",
    "                \n",
    "colNames = {\n",
    "    'NPT41_PRIV': 'ANP for 0-30,000 fam income',\n",
    "    'NPT42_PRIV': 'ANP for 30,001-48,000 fam income',\n",
    "    'NPT43_PRIV': 'ANP for 48,001-75,000 fam income',\n",
    "    'NPT44_PRIV': 'ANP for 75,001-110,000 fam income',\n",
    "    'NPT45_PRIV': 'ANP for 110,000+ fam income',\n",
    "    'COSTT4_A': 'Total cost of attendance',\n",
    "}"
   ]
  },
  {
   "cell_type": "code",
   "execution_count": null,
   "metadata": {
    "scrolled": false
   },
   "outputs": [],
   "source": [
    "unis = ['Columbia University in the City of New York', 'Stanford University', 'Brown University']\n",
    "cols = ['NPT41_PRIV', 'NPT42_PRIV', 'NPT43_PRIV']\n",
    "\n",
    "c = ComparisonGraph(unis, cols)\n",
    "c.graph()"
   ]
  }
 ],
 "metadata": {
  "kernelspec": {
   "display_name": "Python 3",
   "language": "python",
   "name": "python3"
  },
  "language_info": {
   "codemirror_mode": {
    "name": "ipython",
    "version": 3
   },
   "file_extension": ".py",
   "mimetype": "text/x-python",
   "name": "python",
   "nbconvert_exporter": "python",
   "pygments_lexer": "ipython3",
   "version": "3.7.0"
  }
 },
 "nbformat": 4,
 "nbformat_minor": 2
}
